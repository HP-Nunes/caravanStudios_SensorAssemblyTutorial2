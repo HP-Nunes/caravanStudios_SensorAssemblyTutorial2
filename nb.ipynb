{
 "cells": [
  {
   "cell_type": "markdown",
   "metadata": {
    "slideshow": {
     "slide_type": "skip"
    }
   },
   "source": [
    "<head>\n",
    "  <link rel=\"shortcut icon\" type=\"img/csLogo.png\" href=\"favicon.ico\" />\n",
    "</head>"
   ]
  },
  {
   "cell_type": "markdown",
   "metadata": {
    "slideshow": {
     "slide_type": "slide"
    }
   },
   "source": [
    "#                              <center>Step-By-Step DIY Tutorial</center>\n",
    "\n",
    "<center><img src=\"img/csLogo.png\" alt=\"Drawing\" style=\"width: 500px;\"/></center>\n",
    "\n",
    "##                                     <center>Build your own Air Quality Sensor</center>"
   ]
  },
  {
   "cell_type": "markdown",
   "metadata": {
    "slideshow": {
     "slide_type": "slide"
    }
   },
   "source": [
    "# <center>Task 0: The Tools You Will Need</center>"
   ]
  },
  {
   "cell_type": "markdown",
   "metadata": {
    "slideshow": {
     "slide_type": "subslide"
    }
   },
   "source": [
    "### <center>A Computer with Wi-Fi Access</center>\n",
    "<center><img src=\"img/comp.png\" style=\"width: 400px;\"/></center>"
   ]
  },
  {
   "cell_type": "markdown",
   "metadata": {
    "slideshow": {
     "slide_type": "subslide"
    }
   },
   "source": [
    "### <center>NodeMCU ESP8266 CPU/WLAN</center>\n",
    "<center><img src=\"img/nodemcu.png\" style=\"width: 400px;\"/></center>\n",
    "\n",
    "<center>\n",
    "<a href = \"https://www.amazon.com/HiLetgo-Internet-Development-Wireless-Micropython/dp/B010N1SPRK/ref=sr_1_fkmr1_1?ie=UTF8&amp;qid=1531435207&amp;sr=8-1-fkmr1&amp;keywords=NodeMCU+ESP8266%2C+CPU%2FWLAN\">Purchasing Option</a>\n",
    "</center>"
   ]
  },
  {
   "cell_type": "markdown",
   "metadata": {
    "slideshow": {
     "slide_type": "subslide"
    }
   },
   "source": [
    "### <center>Nova SDS011 Fine Dust Sensor</center>\n",
    "<center><img src=\"img/sds.png\" style=\"width: 600px;\"/></center>\n",
    "\n",
    "<center>\n",
    "<a href = \"https://www.banggood.com/Nova-PM-Sensor-SDS011-High-Precision-Laser-PM2_5-Air-Quality-Detection-Sensor-Module-p-1144246.html?stayold=1&amp;cur_warehouse=CN&cur_warehouse=CN\">Purchasing Option</a>\n",
    "</center>"
   ]
  },
  {
   "cell_type": "markdown",
   "metadata": {
    "slideshow": {
     "slide_type": "subslide"
    }
   },
   "source": [
    "### <center>DHT22 Temperature Humidity Sensor*</center>\n",
    "<center><img src=\"img/dht22.png\" style=\"width: 400px;\"/></center>\n",
    "\n",
    "<center>\n",
    "<a href = \"https://www.amazon.com/Gowoops-Temperature-Humidity-Measurement-Raspberry/dp/B073F472JL/ref=sr_1_3?ie=UTF8&amp;qid=1531772763&amp;sr=8-3&amp;keywords=DHT22%2C+temperature+%26+humidity\">Purchasing Option</a>\n",
    "</center>\n",
    "\n",
    "<center> * Note: there is a 3 and a 4 pins version of the dht; buy the version with 4 pins if possible </center>"
   ]
  },
  {
   "cell_type": "markdown",
   "metadata": {
    "slideshow": {
     "slide_type": "subslide"
    }
   },
   "source": [
    "### <center>Dupont Cables (female-to-female), at least six</center>\n",
    "<center><img src=\"img/dupont.jpg\" style=\"width: 400px;\"/></center>\n",
    "\n",
    "<center>\n",
    "<a href = \"https://www.amazon.com/EDGELEC-Breadboard-Optional-Assorted-Multicolored/dp/B07GD2BWPY/ref=sr_1_3?keywords=dupont+cables+female&qid=1555004496&s=gateway&sr=8-3\">Purchasing Option</a>\n",
    "</center>"
   ]
  },
  {
   "cell_type": "markdown",
   "metadata": {
    "slideshow": {
     "slide_type": "subslide"
    }
   },
   "source": [
    "### <center>Two USB C Cables</center>\n",
    "<center>Less than 1m</center>| <center>Nylon USB Cable, At least 2m</center>\n",
    ":-------------------------:|:-------------------------:\n",
    "<img src=\"img/usbcable1.jpg\" style=\"width: 400px;\"/> | <img src=\"img/usbcable2.jpg\" style=\"width: 400px;\"/>\n",
    "<center><a href = \"https://www.amazon.com/Cables-COSOOS-Braided-Charging-Bank-Black/dp/B07BBM1QKP/ref=sr_1_3?crid=8OZ0MY1DNHDI&keywords=short+usb+c+cable&qid=1551210773&s=electronics&sprefix=short+usb+%2Celectronics%2C221&sr=1-3\">Purchasing Option</a></center> | <center><a href = \"https://www.amazon.com/Rephoenix-Braided-Samsung-Motorola-More-3Pack/dp/B07D4F72N5/ref=sr_1_2_sspa?s=electronics&amp;ie=UTF8&amp;qid=1531436596&amp;sr=1-2-spons&amp;keywords=USB+cable+e.g.%3A+flat+2m+Micro-USB&amp;psc=1\">Purchasing Option</a></center>"
   ]
  },
  {
   "cell_type": "markdown",
   "metadata": {
    "slideshow": {
     "slide_type": "subslide"
    }
   },
   "source": [
    "### <center>USB to Wall Charger</center>\n",
    "<center><img src=\"img/charger.jpg\" style=\"width: 400px;\"/></center>\n",
    "\n",
    "<center>\n",
    "<a href = \"https://www.amazon.com/Charger-3-Pack-Adapter-Samsung-Motorola/dp/B07437M5QQ/ref=sr_1_4?ie=UTF8&amp;qid=1531775014&amp;sr=8-4&amp;keywords=usb+power+adapter\">Purchasing Option</a>\n",
    "</center>"
   ]
  },
  {
   "cell_type": "markdown",
   "metadata": {
    "slideshow": {
     "slide_type": "subslide"
    }
   },
   "source": [
    "### <center>10 X 12mm Silicone Tube*</center>\n",
    "<center><img src=\"img/tube.jpg\" style=\"width: 400px;\"/></center>\n",
    "\n",
    "<center>\n",
    "<a href = \"https://www.amazon.com/uxcell-Silicone-Flexible-Translucent-Transfer/dp/B01N3YIQ0Y/ref=sr_1_9?keywords=silicone+tube&qid=1555955060&s=gateway&sr=8-9\">Purchasing Option</a>\n",
    "</center>\n",
    "\n",
    "<center>* The tube doesn't need to be long, even just 10 cm is enough, it all depends on the outdoors installation</center>"
   ]
  },
  {
   "cell_type": "markdown",
   "metadata": {
    "slideshow": {
     "slide_type": "subslide"
    }
   },
   "source": [
    "### <center>OPTIONAL: 90° PVC Pipes (3 inch / 2.55 cm)*</center>\n",
    "<center><img src=\"img/pvc.jpg\" style=\"width: 400px;\"/></center>\n",
    "\n",
    "<center>\n",
    "<a href = \"https://www.amazon.com/NDS-3P02-3-Inch-Sewer-90-Degree/dp/B00HXHALO8/ref=sr_1_1?s=lawn-garden&amp;ie=UTF8&amp;qid=1531767949&amp;sr=1-1&amp;keywords=90+Degree+PVC+Pipe+3inch\">Purchasing Option</a>\n",
    "</center>\n",
    "\n",
    "<center>*A PVC Pipe is just one of many ways to shield your sensor from the elements, be creative!</center>"
   ]
  },
  {
   "cell_type": "markdown",
   "metadata": {
    "slideshow": {
     "slide_type": "subslide"
    }
   },
   "source": [
    "### <center>And a healthy dose of perseverance & patience!</center>\n",
    "<center><img src=\"https://media.giphy.com/media/NtZJxhBRNSP72/giphy.gif\" style=\"width: 400px;\"/></center>"
   ]
  },
  {
   "cell_type": "markdown",
   "metadata": {
    "slideshow": {
     "slide_type": "slide"
    }
   },
   "source": [
    "# <center>Task 1: Configure the Arduino Board </center>"
   ]
  },
  {
   "cell_type": "markdown",
   "metadata": {
    "slideshow": {
     "slide_type": "subslide"
    }
   },
   "source": [
    "## <center>INSTRUCTIONS FOR LINUX</center>\n",
    "<br>\n",
    "<center><img src=\"img/Linux_logo.png\" alt=\"Drawing\" style=\"width: 400px;\"/></center>"
   ]
  },
  {
   "cell_type": "markdown",
   "metadata": {
    "slideshow": {
     "slide_type": "subslide"
    }
   },
   "source": [
    "Author's parameters in this tutorial:\n",
    "<br>\n",
    "> *  Ubuntu Bionic Beavers 18.04\n",
    "> *  Python 3.6.8\n",
    "> *  pyserial 2.21.0\n",
    "> *  ESP8266 NodeMCU (Arduino UNO)"
   ]
  },
  {
   "cell_type": "markdown",
   "metadata": {
    "slideshow": {
     "slide_type": "fragment"
    }
   },
   "source": [
    "<img src=\"img/Alert.png\" alt=\"Drawing\" align='left' style=\"width: 50px;\"/> \n",
    "**You don't need to have the exact same parameters**; but if you do run into a pickle, it's best practice to include a description of your Operating System parameters along with a description of your issue. You can search for issues and/or ask for help on the following sites:\n",
    "<br>\n",
    "> * <a href = \"https://www.reddit.com/r/arduino/\" target = '_blank'> r/arduino </a>\n",
    "> * <a href = \"https://arduino.stackexchange.com/\" target = '_blank'> Arduino Stack Exchange </a>\n",
    "> * <a href = \"https://www.esp8266.com/index.php\" target = '_blank'>ESP8266 Community Forum</a>"
   ]
  },
  {
   "cell_type": "markdown",
   "metadata": {
    "slideshow": {
     "slide_type": "subslide"
    }
   },
   "source": [
    "### <center>STEP 1: INSTALL USB2SERIAL DRIVER</center>"
   ]
  },
  {
   "cell_type": "markdown",
   "metadata": {
    "slideshow": {
     "slide_type": "fragment"
    }
   },
   "source": [
    "#### What does it do?\n",
    "\n",
    "Enables your computer to communicate with the computer chip of the Arduino once connected via USB; otherwise it won't do much but power it. "
   ]
  },
  {
   "cell_type": "markdown",
   "metadata": {
    "slideshow": {
     "slide_type": "subslide"
    }
   },
   "source": [
    "### <center> No installation required for Linux, chip should be supported </center>\n",
    "<div align='center'><img src=\"https://media.giphy.com/media/9QlOyBFOWcCru/giphy.gif\" width=\"380\" height=\"262\" /></div>\n",
    "<br>\n",
    "<center>You can always double-check with the 'dmesg' command:</center>\n",
    "<div align='center'><code> dmesg | grep -i ttyUSB </code></div>\n",
    "<br>\n",
    "<center>You should see ttyUSB0 listed:</center>\n",
    "    <img src=\"img/dsmeg.png\" alt=\"Drawing\"/>"
   ]
  },
  {
   "cell_type": "markdown",
   "metadata": {
    "slideshow": {
     "slide_type": "subslide"
    }
   },
   "source": [
    "## <center>STEP 2: INSTALL THE ARDUINO IDE</center>"
   ]
  },
  {
   "cell_type": "markdown",
   "metadata": {
    "slideshow": {
     "slide_type": "fragment"
    }
   },
   "source": [
    "### What does it do?\n",
    "\n",
    "<center><img src=\"img/arduinoIDE.svg\" alt=\"Drawing\"/></center>\n",
    "The Arduino Integrated Development Environment is a software to write programs and import libraries from the web, and upload those onto the Arduino board.\n",
    "\n",
    "Download the Arduino IDE <a href='https://www.arduino.cc/en/Main/Software'>here</a>."
   ]
  },
  {
   "cell_type": "markdown",
   "metadata": {
    "slideshow": {
     "slide_type": "subslide"
    }
   },
   "source": [
    "##### Open the IDE and go to \"File -> Preferences\" and copy the url below into the \"Additional Board Managers URL\" field\n",
    "http://arduino.esp8266.com/stable/package_esp8266com_index.json\n",
    "<br><br>\n",
    "\n",
    "<center><img src=\"img/abm.png\" alt=\"Drawing\" style=\"width: 600px;\"/></center>"
   ]
  },
  {
   "cell_type": "markdown",
   "metadata": {
    "slideshow": {
     "slide_type": "subslide"
    }
   },
   "source": [
    "##### Install the libraries: go to “Tools -> Board … -> Board Administrator” search for “esp8266” and install “esp8266 by ESP8266 Community”\n",
    "<br>\n",
    "<center><img src=\"img/board.png\" alt=\"Drawing\" style=\"width: 600px;\"/></center>\n",
    "<br>"
   ]
  },
  {
   "cell_type": "markdown",
   "metadata": {
    "slideshow": {
     "slide_type": "fragment"
    }
   },
   "source": [
    "### <center>CLOSE THE ARDUINO IDE.</center>"
   ]
  },
  {
   "cell_type": "markdown",
   "metadata": {
    "slideshow": {
     "slide_type": "subslide"
    }
   },
   "source": [
    "## <center>STEP 3: IMPORT LUFTDATEN'S FIRMWARE ON THE ARDUINO</center>"
   ]
  },
  {
   "cell_type": "markdown",
   "metadata": {
    "slideshow": {
     "slide_type": "fragment"
    }
   },
   "source": [
    "### What does it do?\n",
    "\n",
    "The firmware--built by Luftdaten--is a piece of software which configures the Wi-Fi connectivity to the Arduino board and stores the measurements from the SDH011 Sensor into Luftdaten's database. \n",
    "\n",
    "For more background info, check out the <a href='https://github.com/opendata-stuttgart/sensors-software/tree/master/airrohr-firmware'>GitHub repo</a>.\n",
    "\n",
    "#### <center> Download the firmware <a href='https://www.madavi.de/sensor/update/data/latest_en.bin'>here</a></center>"
   ]
  },
  {
   "cell_type": "markdown",
   "metadata": {
    "slideshow": {
     "slide_type": "subslide"
    }
   },
   "source": [
    "<center>Using the shorter ( < 1m) USB C Cable, connect the NodeMCU to your computer.</center>\n",
    "<br>\n",
    "<center><img src=\"img/plug1.jpg\" alt=\"Drawing\" style=\"width: 600px;\"/></center>"
   ]
  },
  {
   "cell_type": "markdown",
   "metadata": {
    "slideshow": {
     "slide_type": "subslide"
    }
   },
   "source": [
    "### <center>Last steps</center>\n",
    "\n",
    "#### Open a terminal/bash and go into the hidden file directory where esptool is located:\n",
    "<code>cd ~/.arduino15/packages/esp8266/tools/esptool/0.4.9</code>\n",
    "\n",
    "#### Install the bootloader software (i.e. esptool): \n",
    "<code>pip install esptool</code>\n",
    "\n",
    "Documentation: https://github.com/espressif/esptool/blob/master/README.md"
   ]
  },
  {
   "cell_type": "markdown",
   "metadata": {
    "slideshow": {
     "slide_type": "subslide"
    }
   },
   "source": [
    "##### Run the command to flash the firmware on Arduino\n",
    "`esptool --port /dev/ttyUSB0 write_flash 0x0000 ~/Downloads/latest_en.bin`\n",
    "> * `/dev/ttyUSB0` Make sure to specify the correct port; open the ArduinoIDE and check \"Tools -> Port\", then \"Tools > Get board info\" to check whether the Arduino is recognized.\n",
    "> * `~/Downloads/latest_en.bin` Make sure to write the correct directory path to the firmware.\n",
    "\n",
    "Documentation: https://github.com/opendata-stuttgart/meta/wiki/EN-Installing-firmware\n",
    "\n",
    "###### The Arduino’s LED should be blinking while the firmware being uploaded, and your terminal should look like this during the import process:\n",
    "<center><img src=\"img/c1.jpg\" alt=\"Drawing\" style=\"width: 1000px;\"/></center>"
   ]
  },
  {
   "cell_type": "markdown",
   "metadata": {
    "slideshow": {
     "slide_type": "subslide"
    }
   },
   "source": [
    "<center><img src=\"img/Alert.png\" alt=\"Drawing\" style=\"width: 100px;\"/></center>\n",
    "\n",
    "    \n",
    "###  <center> IF THE FOLLOWING ERROR ARISES:</center>\n",
    "<br>\n",
    "<center>[Errno 13] could not open port /dev/ttyUSB0: [Errno 13] Permission denied: '/dev/ttyUSB0'</center> \n",
    "<br>\n",
    "<center>\n",
    "Change permission privileges with:\n",
    "</center>\n",
    "<br>\n",
    "<center><code>sudo chmod 666 /dev/ttyUSB0</code></center>"
   ]
  },
  {
   "cell_type": "markdown",
   "metadata": {
    "slideshow": {
     "slide_type": "subslide"
    }
   },
   "source": [
    "#### <center>And at the end you should see the installation completed:</center>\n",
    "<br>\n",
    "<center><img src=\"img/c2.png\" alt=\"Drawing\" style=\"width: 1000px;\"/></center>"
   ]
  },
  {
   "cell_type": "markdown",
   "metadata": {
    "slideshow": {
     "slide_type": "fragment"
    }
   },
   "source": [
    "### <center>Awesome! The Arduino Board is now ready to collect & send data! Let's get to the hardware!</center>\n",
    "<center><img src=\"https://media.giphy.com/media/OprPC1KQJvUME/giphy.gif\" style=\"width: 400px;\"/></center>"
   ]
  },
  {
   "cell_type": "markdown",
   "metadata": {
    "slideshow": {
     "slide_type": "slide"
    }
   },
   "source": [
    "# <center>Task 2: Assembly Required</center>"
   ]
  },
  {
   "cell_type": "markdown",
   "metadata": {
    "slideshow": {
     "slide_type": "subslide"
    }
   },
   "source": [
    "### <center>Gather all the tools you will need</center>\n",
    "\n",
    "<center><img src=\"img/.gif\" max-width= auto max-height= auto></center>"
   ]
  },
  {
   "cell_type": "markdown",
   "metadata": {
    "slideshow": {
     "slide_type": "subslide"
    }
   },
   "source": [
    "### <center>We will follow the schema below as our guide to connect the components</center>\n",
    "\n",
    "<center><img src=\"img/schema.jpg\" alt=\"Drawing\" style=\"width: 400px;\"/></center>\n",
    "<center><a href = \"https://luftdaten.info/en/construction-manual/\">Source (open image in a separate tab)</a>\n",
    "</center>"
   ]
  },
  {
   "cell_type": "markdown",
   "metadata": {
    "slideshow": {
     "slide_type": "subslide"
    }
   },
   "source": [
    "### <center>Assembly, Step 1: Connect the Thermometer to the Board*</center>\n",
    "\n",
    "<center><img src=\"img/schema1.png\" alt=\"Drawing\" style=\"width: 400px;\"/></center>\n",
    "<center>*Schema adjusted for a 3 pin model</center>"
   ]
  },
  {
   "cell_type": "markdown",
   "metadata": {
    "slideshow": {
     "slide_type": "subslide"
    }
   },
   "source": [
    "### <center>A1: Connect Pin 1 to 3V3</center>\n",
    "<center><img src=\"img/A1P1.gif\" max-width= auto max-height= auto></center>"
   ]
  },
  {
   "cell_type": "markdown",
   "metadata": {
    "slideshow": {
     "slide_type": "subslide"
    }
   },
   "source": [
    "### <center>A1: Connect Pin 2 to D7</center>\n",
    "<center><img src=\"img/A1P2.gif\" max-width= auto max-height= auto></center>"
   ]
  },
  {
   "cell_type": "markdown",
   "metadata": {
    "slideshow": {
     "slide_type": "subslide"
    }
   },
   "source": [
    "### <center>A1: Connect Pin 3 to GND</center>\n",
    "<center><img src=\"img/A1P3.gif\" max-width= auto max-height= auto></center>"
   ]
  },
  {
   "cell_type": "markdown",
   "metadata": {
    "slideshow": {
     "slide_type": "subslide"
    }
   },
   "source": [
    "### <center>A1: End Result</center>\n",
    "* | *\n",
    ":-------------------------:|:-------------------------:\n",
    "<img src=\"img/A1F1.png\" alt=\"Drawing\" max-width= auto /> | <img src=\"img/A1F2.png\" alt=\"Drawing\" max-width= auto/>"
   ]
  },
  {
   "cell_type": "markdown",
   "metadata": {
    "slideshow": {
     "slide_type": "subslide"
    }
   },
   "source": [
    "### <center>Assembly, Step 2: Connect the Dust Sensor to the Board*</center>\n",
    "\n",
    "<center><img src=\"img/schemaSDS.png\" alt=\"Drawing\" max-width= auto/></center>\n",
    "<center>*Schema adjusted for NodeMCU v1,v2 using (VIN); for NodeMCU v3 use (VU)</center>"
   ]
  },
  {
   "cell_type": "markdown",
   "metadata": {
    "slideshow": {
     "slide_type": "subslide"
    }
   },
   "source": [
    "### <center>A2: Connect 5V to Vin/VU </center>\n",
    "<center><img src=\"img/A2P1.gif\" max-width= auto max-height= auto></center>"
   ]
  },
  {
   "cell_type": "markdown",
   "metadata": {
    "slideshow": {
     "slide_type": "subslide"
    }
   },
   "source": [
    "### <center>A2: Connect GND to GND</center>\n",
    "<center><img src=\"img/A2P2.gif\" max-width= auto max-height= auto></center>"
   ]
  },
  {
   "cell_type": "markdown",
   "metadata": {
    "slideshow": {
     "slide_type": "subslide"
    }
   },
   "source": [
    "### <center>A2: Connect RXD to D2</center>\n",
    "<center><img src=\"img/A2P3.gif\" max-width= auto max-height= auto></center>"
   ]
  },
  {
   "cell_type": "markdown",
   "metadata": {
    "slideshow": {
     "slide_type": "subslide"
    }
   },
   "source": [
    "### <center>A2: Connect TXD to D1</center>\n",
    "<center><img src=\"img/A2P4.gif\" max-width= auto max-height= auto></center>"
   ]
  },
  {
   "cell_type": "markdown",
   "metadata": {
    "slideshow": {
     "slide_type": "subslide"
    }
   },
   "source": [
    "### <center>A2: End Result</center>\n",
    ". | .\n",
    ":-------------------------:|:-------------------------:\n",
    "<img src=\"img/schemaB.png\" alt=\"Drawing\" style=\"width: 500px;\"/> | <img src=\"img/schemaA.png\" alt=\"Drawing\" style=\"width: 500px;\"/>\n",
    "<img src=\"img/schemaC.png\" alt=\"Drawing\" style=\"width: 500px;\"/> | <img src=\"img/schemaD.png\" alt=\"Drawing\" style=\"width: 500px;\"/>"
   ]
  },
  {
   "cell_type": "markdown",
   "metadata": {
    "slideshow": {
     "slide_type": "subslide"
    }
   },
   "source": [
    "### <center>Great, you now have all of the essential hardware connected!</center>\n",
    "\n",
    "<center><img src=\"img/goodjob1.gif\" max-width= auto max-height= auto></center>"
   ]
  },
  {
   "cell_type": "markdown",
   "metadata": {
    "slideshow": {
     "slide_type": "slide"
    }
   },
   "source": [
    "# <center>Task 3: Get Connected</center>"
   ]
  },
  {
   "cell_type": "markdown",
   "metadata": {
    "slideshow": {
     "slide_type": "subslide"
    }
   },
   "source": [
    "### <center>Plug the sensor's power supply</center>"
   ]
  },
  {
   "cell_type": "markdown",
   "metadata": {
    "slideshow": {
     "slide_type": "subslide"
    }
   },
   "source": [
    "### <center>Connect to the WiFi</center>   \n",
    "   1. Connect to the sensor's Wi-Fi (\"Feinstaubsensor-Device ID\");\n",
    "   2. Then, go to the following IP address: http://192.168.4.1/ (If you're prompted by a menu, select 'Configure');\n",
    "   3. Type the name and password of the Wi-Fi network that the Arduino will be connecting over to collect and send data;\n",
    "   4. On the Configuration Page, verify that all of your components are recognized (1 means that the component is recognized, whereas a 0 doesn't):\n",
    "    * DHT (humidity-temperature sensor)\n",
    "    * SDS (dust sensor)\n",
    "    * auto-update Firmware (Luftdaten's data collection software)\n",
    "<br>\n",
    "<center><img src=\"img/GIF1.gif\" max-width= auto max-height= auto></center>"
   ]
  },
  {
   "cell_type": "markdown",
   "metadata": {
    "slideshow": {
     "slide_type": "subslide"
    }
   },
   "source": [
    "### <center> Check that you're getting the data </center> \n",
    "\n",
    "Check if your sensor is emitting in real time its temperature/humidity and Fine Particles data: https://www.madavi.de/sensor/graph.php\n",
    "<br><br>\n",
    "<img src=\"img/Alert.png\" alt=\"Drawing\" align='left' style=\"width: 50px;\"/>If the link to your data is <span style=\"background-color: #FF0000\">highlighted in red</span>, your device isn't registered on Luftdaten's database, and your data won't be visualized on the [map](http://deutschland.maps.luftdaten.info/#6/51.165/10.455); register your device on Luftdaten's [registration form](https://luftdaten.info/en/construction-manual/) (bottom of the page). 'Chip ID' refers to your device's unique ID.\n",
    "<br>\n",
    "<center><img src=\"img/GIF2.gif\" max-width= auto max-height= auto></center>"
   ]
  },
  {
   "cell_type": "markdown",
   "metadata": {
    "slideshow": {
     "slide_type": "subslide"
    }
   },
   "source": [
    "### <center> Verify your sensor's Wi-Fi connectivity </center>\n",
    "\n",
    "Your device's connectivity is primordial in collecting data; the arduino does not nearly have enough memory to store the data, so if the Wi-Fi is disconnected then the data gets lost.\n",
    "<br>\n",
    "[Search](https://www.madavi.de/sensor/signal.php) for your device by its unique ID again.\n",
    "<br>\n",
    "<center><img src=\"img/GIF3.gif\" max-width= auto max-height= auto></center>"
   ]
  },
  {
   "cell_type": "markdown",
   "metadata": {
    "slideshow": {
     "slide_type": "slide"
    }
   },
   "source": [
    "# <center>Task 4: Setting Up Your Sensor Outdoors</center>"
   ]
  },
  {
   "cell_type": "markdown",
   "metadata": {
    "slideshow": {
     "slide_type": "slide"
    }
   },
   "source": [
    "# <center>Task 5: Data & You</center>"
   ]
  },
  {
   "cell_type": "markdown",
   "metadata": {
    "slideshow": {
     "slide_type": "slide"
    }
   },
   "source": [
    "# Sources"
   ]
  }
 ],
 "metadata": {
  "celltoolbar": "Slideshow",
  "kernelspec": {
   "display_name": "Python 3",
   "language": "python",
   "name": "python3"
  },
  "language_info": {
   "codemirror_mode": {
    "name": "ipython",
    "version": 3
   },
   "file_extension": ".py",
   "mimetype": "text/x-python",
   "name": "python",
   "nbconvert_exporter": "python",
   "pygments_lexer": "ipython3",
   "version": "3.6.8"
  }
 },
 "nbformat": 4,
 "nbformat_minor": 2
}
